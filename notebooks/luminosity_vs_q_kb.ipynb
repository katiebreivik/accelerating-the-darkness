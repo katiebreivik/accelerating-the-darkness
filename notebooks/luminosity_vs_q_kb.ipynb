{
 "cells": [
  {
   "cell_type": "code",
   "execution_count": null,
   "id": "73098ec7-a36e-4cea-9dc5-4ce8a9d44509",
   "metadata": {
    "tags": []
   },
   "outputs": [],
   "source": [
    "import numpy as np\n",
    "import matplotlib.pyplot as plt\n"
   ]
  },
  {
   "cell_type": "code",
   "execution_count": null,
   "id": "fb046958-bb52-4142-8810-a83079077b2e",
   "metadata": {
    "tags": []
   },
   "outputs": [],
   "source": [
    "def get_lum_ms(m):\n",
    "    return m**(3.5)\n",
    "\n",
    "def addMags(mag1, mag2):\n",
    "    magsum = -2.5*np.log10(10**(-mag1*0.4)+10**(-mag2*0.4))\n",
    "    return magsum\n",
    "\n",
    "def M_bol(Lum):\n",
    "    # lum is in log10 solar luminosity\n",
    "    M_bol = 4.75-2.7*Lum\n",
    "    return M_bol"
   ]
  },
  {
   "cell_type": "code",
   "execution_count": null,
   "id": "a8a63105-19a9-42ec-bb4b-b2578bc25660",
   "metadata": {
    "tags": []
   },
   "outputs": [],
   "source": [
    "def get_lum_ratio(q_23, m1):\n",
    "    q_12 = np.linspace(0.1, 1.0, 100)\n",
    "    m2 = q_12 * m1\n",
    "    m3 = q_23 * m2\n",
    "    \n",
    "    \n",
    "    lum_1 = get_lum_ms(m1)\n",
    "    lum_2 = get_lum_ms(m2)\n",
    "    lum_3 = get_lum_ms(m3)\n",
    "\n",
    "    lum_ratio = (lum_2 + lum_3) / lum_1\n",
    "    return q_12, lum_ratio\n",
    "    "
   ]
  },
  {
   "cell_type": "code",
   "execution_count": null,
   "id": "1ac39867-d406-4b5d-b4bf-df9d6f03383e",
   "metadata": {
    "tags": []
   },
   "outputs": [],
   "source": [
    "m1 = 1.0\n",
    "for q_23 in np.arange(0.2, 1.2, 0.2):\n",
    "    q_12, lum_ratio = get_lum_ratio(q_23, m1)\n",
    "    plt.plot(q_12, lum_ratio, label=f'q={np.round(q_23, 2)}')\n",
    "\n",
    "plt.xlabel(r'$q_{1,2}$')\n",
    "plt.ylabel(r'$(L_{2} + L_{3}) / L_{1}$')\n",
    "plt.legend()"
   ]
  },
  {
   "cell_type": "code",
   "execution_count": null,
   "id": "438d81d3-4733-489e-a99f-11705d9ad8e8",
   "metadata": {},
   "outputs": [],
   "source": []
  }
 ],
 "metadata": {
  "kernelspec": {
   "display_name": "Python 3 (ipykernel)",
   "language": "python",
   "name": "python3"
  },
  "language_info": {
   "codemirror_mode": {
    "name": "ipython",
    "version": 3
   },
   "file_extension": ".py",
   "mimetype": "text/x-python",
   "name": "python",
   "nbconvert_exporter": "python",
   "pygments_lexer": "ipython3",
   "version": "3.11.3"
  }
 },
 "nbformat": 4,
 "nbformat_minor": 5
}
